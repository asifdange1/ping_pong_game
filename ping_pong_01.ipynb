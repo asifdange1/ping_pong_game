{
 "cells": [
  {
   "cell_type": "code",
   "execution_count": 1,
   "id": "e8c7722a-24b4-4bd1-9ba4-582807c95867",
   "metadata": {},
   "outputs": [],
   "source": [
    "# ping pong game code"
   ]
  },
  {
   "cell_type": "code",
   "execution_count": 2,
   "id": "9139fac9-4c97-4872-8739-4ab2162941e6",
   "metadata": {
    "tags": []
   },
   "outputs": [],
   "source": [
    "from turtle import Turtle, Screen\n",
    "import random\n",
    "import time"
   ]
  },
  {
   "cell_type": "code",
   "execution_count": 3,
   "id": "27d3f6a8-a243-4e96-a79e-5d51054f66bf",
   "metadata": {
    "tags": []
   },
   "outputs": [],
   "source": [
    "# creating object of screen class\n",
    "screen = Screen()\n",
    "# dimensions of screen of game:\n",
    "screen.setup(height =600 , width = 800)\n",
    "# background color of game\n",
    "screen.bgcolor(\"black\")\n",
    "screen.title(\"PingPong masters\")\n",
    "# tracer allows us to hide screen and do abstraction jobs that we dont want user to see then show when only game starts.\n",
    "screen.tracer(0)"
   ]
  },
  {
   "cell_type": "code",
   "execution_count": 4,
   "id": "124e708c-2e32-4149-855a-c4d380fbc79c",
   "metadata": {},
   "outputs": [],
   "source": [
    "# this class makes players rackets. \n",
    "class User(Turtle):\n",
    "    def __init__(self, position):\n",
    "        super().__init__()\n",
    "        self.color(\"white\")\n",
    "        self.penup()\n",
    "        self.speed(\"fastest\")\n",
    "        self.goto(position)\n",
    "        self.shape(\"square\")\n",
    "        self.shapesize(stretch_wid = 5, stretch_len = 1)\n",
    "    # these functions make rackets move vertically.\n",
    "    # each click amounts to 50 pixels pace.\n",
    "    # you can change here based on your pace.\n",
    "    def go_up(self):\n",
    "            new_y_cor = self.ycor() + 50\n",
    "            self.goto(self.xcor(), new_y_cor)\n",
    "    def go_down(self):\n",
    "            new_y_cor = self.ycor() - 50\n",
    "            self.goto(self.xcor(), new_y_cor)"
   ]
  },
  {
   "cell_type": "code",
   "execution_count": 5,
   "id": "c4d9e0a2-b471-4d5d-bec7-21905a126286",
   "metadata": {},
   "outputs": [],
   "source": [
    "class Ball(Turtle):\n",
    "    def __init__(self):\n",
    "        super().__init__()\n",
    "        # color of pingpong ball.\n",
    "        self.color(\"blue\")\n",
    "        # penup so turtle wont draw trajectory.\n",
    "        self.penup()\n",
    "        # shape of ball better to be round. \n",
    "        self.shape(\"circle\")\n",
    "        # speed of ball motion.\n",
    "        self.speed(\"fastest\")\n",
    "        # goto home position at center as x y axis meet at (0,0).\n",
    "        self.goto(0,0)\n",
    "        # ball moves x y axis with same distance thats why makes a straight line.\n",
    "        self.x_move = 10\n",
    "        self.y_move = 10\n",
    "        # this move speed is actually sleep time of time module.\n",
    "        # as sleep time decreasses from 1 to 0.000001 speed increases.\n",
    "        self.move_speed = 0.1\n",
    "    def move(self):\n",
    "        # for straight line coordinates added in same amount to both axes.\n",
    "        new_x = self.xcor() + self.x_move\n",
    "        new_y = self.ycor() + self.y_move\n",
    "        self.goto(new_x, new_y)\n",
    "    # this will make ball bounce back vertically\n",
    "    def bounce_y(self):\n",
    "        self.speed(0)\n",
    "        # this reverses y coordinates making an impression of bouncing of ball.\n",
    "        self.y_move *= -1\n",
    "    # this will make both user's ball bounce back    \n",
    "    def bounce_x(self):\n",
    "        self.x_move *= -1\n",
    "        self.move_speed *= 0.9\n",
    "    def reset_position(self):\n",
    "        self.goto(0,0)\n",
    "        self.bounce_x()\n",
    "        self.move_speed = 0.1\n",
    "        "
   ]
  },
  {
   "cell_type": "code",
   "execution_count": 6,
   "id": "faea2b67-6114-419d-ad84-4090c9d5a0ee",
   "metadata": {
    "tags": []
   },
   "outputs": [],
   "source": [
    "class Scoreboard(Turtle):\n",
    "    # FONT = (\"Courier\", 80, \"normal\")\n",
    "    # ALIGN = \"center\"\n",
    "    def __init__(self):\n",
    "        super().__init__()\n",
    "        self.color(\"white\")\n",
    "        self.penup()\n",
    "        self.hideturtle()\n",
    "        self.user1_score = 0\n",
    "        self.user2_score = 0\n",
    "        self.update_scoreboard()\n",
    "        \n",
    "        \n",
    "    def update_scoreboard(self):\n",
    "        self.clear()\n",
    "        # scores are written every time new update in game with old record cleared.\n",
    "        self.goto(-300, 250)\n",
    "        # player names can be written in place of player_01 and 02.\n",
    "        self.write(f\"PLAYER_01: {self.user1_score}\", align = \"left\", font = (\"Courier\", 30, \"normal\"))\n",
    "        self.goto(300, 250)\n",
    "        self.write(f\"PLAYER_02: {self.user2_score}\", align = \"right\", font = (\"Courier\", 30, \"normal\"))\n",
    "        \n",
    "    def User1_score(self):\n",
    "        self.user1_score += 1\n",
    "        self.update_scoreboard()\n",
    "    def User2_score(self):\n",
    "        self.user2_score += 1\n",
    "        self.update_scoreboard()\n",
    "    def game_over(self, winner):\n",
    "        self.goto(0,0)\n",
    "        self.write(f\"GAME OVER\\n\", align = \"center\", font = (\"Courier\", 20, \"normal\"))\n",
    "        self.write(f\"{winner} is the WINNER!\", align = \"center\", font = (\"Courier\", 20, \"normal\"))"
   ]
  },
  {
   "cell_type": "code",
   "execution_count": 7,
   "id": "716a1bcc-2bb3-4dd6-b4ac-c5696d6338b1",
   "metadata": {},
   "outputs": [],
   "source": [
    "# all objects of classes are created here.\n",
    "User1 = User((-385, 0))\n",
    "User2 = User((380, 0))\n",
    "ball = Ball() \n",
    "scoreboard = Scoreboard()"
   ]
  },
  {
   "cell_type": "code",
   "execution_count": 8,
   "id": "6b819a2d-5118-4434-b45d-193d0b53519e",
   "metadata": {},
   "outputs": [],
   "source": [
    "# these lines of code take inputs from users for movements of their rackets.\n",
    "screen.listen()\n",
    "# user 1 is on left side\n",
    "screen.onkey(User1.go_up, \"w\")\n",
    "screen.onkey(User1.go_down, \"s\")\n",
    "# user 2 is on right side\n",
    "screen.onkey(User2.go_up, \"Up\")\n",
    "screen.onkey(User2.go_down, \"Down\")\n",
    "\n"
   ]
  },
  {
   "cell_type": "code",
   "execution_count": 9,
   "id": "79d3e459-58da-4378-9ce6-1c57284e7584",
   "metadata": {},
   "outputs": [],
   "source": [
    "# count = 0\n",
    "game_is_on = True\n",
    "# when a player misses a ball to hit other player wins a point.\n",
    "# the player who scores more than 3 wins the game. \n",
    "SCORE_TARGET = 3\n",
    "while game_is_on == True:\n",
    "    time.sleep(ball.move_speed)\n",
    "    screen.update()\n",
    "    ball.move()\n",
    "    # this code determines vertical distance of ball from which it bounces back.\n",
    "    if ball.ycor() > 280 or ball.ycor() < -280:\n",
    "        ball.bounce_y()\n",
    "    \n",
    "    \n",
    "    #detect collision with users pong\n",
    "    if ball.distance(User1) < 50 and ball.xcor() < -350 or ball.distance(User2) < 50 and ball.xcor() > 350:\n",
    "        ball.bounce_x()\n",
    "    # this will triger when user 2 (right side) player misses the ball\n",
    "    if ball.xcor() > 390:\n",
    "        ball.reset_position()\n",
    "        scoreboard.User1_score()\n",
    "        scoreboard.update_scoreboard()\n",
    "    # this will triger when user 1 (left side) player misses the ball\n",
    "    if ball.xcor() < -390:\n",
    "        ball.reset_position()\n",
    "        scoreboard.User2_score()\n",
    "        scoreboard.update_scoreboard()\n",
    "    if ball.xcor() > 390:\n",
    "        ball.reset_position()\n",
    "        scoreboard.User2_score()\n",
    "        scoreboard.update_scoreboard()\n",
    "        \n",
    "    if scoreboard.user1_score > SCORE_TARGET:\n",
    "        # here you can enter the player's name \n",
    "        # left side is player_01\n",
    "        scoreboard.game_over(\"PLAYER_01\")\n",
    "        # game will end after score target copletion by either player.\n",
    "        game_is_on = False\n",
    "    if scoreboard.user2_score > SCORE_TARGET:\n",
    "        scoreboard.game_over(\"PLAYER_02\")\n",
    "        game_is_on = False\n",
    "    "
   ]
  },
  {
   "cell_type": "code",
   "execution_count": 10,
   "id": "388c6ca3-11a0-4f39-8844-f73501e8515a",
   "metadata": {},
   "outputs": [],
   "source": [
    "screen.exitonclick()"
   ]
  }
 ],
 "metadata": {
  "kernelspec": {
   "display_name": "Python 3 (ipykernel)",
   "language": "python",
   "name": "python3"
  },
  "language_info": {
   "codemirror_mode": {
    "name": "ipython",
    "version": 3
   },
   "file_extension": ".py",
   "mimetype": "text/x-python",
   "name": "python",
   "nbconvert_exporter": "python",
   "pygments_lexer": "ipython3",
   "version": "3.10.4"
  }
 },
 "nbformat": 4,
 "nbformat_minor": 5
}
